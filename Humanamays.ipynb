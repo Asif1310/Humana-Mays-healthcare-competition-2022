{
  "cells": [
    {
      "cell_type": "markdown",
      "metadata": {
        "id": "EuV9rylB31Qi"
      },
      "source": [
        "***Importing required libraries***"
      ]
    },
    {
      "cell_type": "code",
      "execution_count": null,
      "metadata": {
        "colab": {
          "base_uri": "https://localhost:8080/"
        },
        "id": "iA8671fpFlWy",
        "outputId": "bef631cf-f304-4d3e-a913-aa4defae0216"
      },
      "outputs": [
        {
          "name": "stdout",
          "output_type": "stream",
          "text": [
            "Looking in indexes: https://pypi.org/simple, https://us-python.pkg.dev/colab-wheels/public/simple/\n",
            "Requirement already satisfied: category_encoders in /usr/local/lib/python3.7/dist-packages (2.5.1.post0)\n",
            "Requirement already satisfied: patsy>=0.5.1 in /usr/local/lib/python3.7/dist-packages (from category_encoders) (0.5.3)\n",
            "Requirement already satisfied: scipy>=1.0.0 in /usr/local/lib/python3.7/dist-packages (from category_encoders) (1.7.3)\n",
            "Requirement already satisfied: scikit-learn>=0.20.0 in /usr/local/lib/python3.7/dist-packages (from category_encoders) (1.0.2)\n",
            "Requirement already satisfied: numpy>=1.14.0 in /usr/local/lib/python3.7/dist-packages (from category_encoders) (1.21.6)\n",
            "Requirement already satisfied: statsmodels>=0.9.0 in /usr/local/lib/python3.7/dist-packages (from category_encoders) (0.12.2)\n",
            "Requirement already satisfied: pandas>=1.0.5 in /usr/local/lib/python3.7/dist-packages (from category_encoders) (1.3.5)\n",
            "Requirement already satisfied: pytz>=2017.3 in /usr/local/lib/python3.7/dist-packages (from pandas>=1.0.5->category_encoders) (2022.4)\n",
            "Requirement already satisfied: python-dateutil>=2.7.3 in /usr/local/lib/python3.7/dist-packages (from pandas>=1.0.5->category_encoders) (2.8.2)\n",
            "Requirement already satisfied: six in /usr/local/lib/python3.7/dist-packages (from patsy>=0.5.1->category_encoders) (1.15.0)\n",
            "Requirement already satisfied: threadpoolctl>=2.0.0 in /usr/local/lib/python3.7/dist-packages (from scikit-learn>=0.20.0->category_encoders) (3.1.0)\n",
            "Requirement already satisfied: joblib>=0.11 in /usr/local/lib/python3.7/dist-packages (from scikit-learn>=0.20.0->category_encoders) (1.2.0)\n"
          ]
        }
      ],
      "source": [
        "! pip install category_encoders"
      ]
    },
    {
      "cell_type": "code",
      "execution_count": null,
      "metadata": {
        "colab": {
          "background_save": true
        },
        "id": "32wybN4d3y3X"
      },
      "outputs": [],
      "source": [
        "import pandas as pd\n",
        "import numpy as np\n",
        "from sklearn.preprocessing import OneHotEncoder\n",
        "from sklearn.model_selection import train_test_split\n",
        "from xgboost import XGBClassifier\n",
        "from sklearn.tree import DecisionTreeClassifier\n",
        "from sklearn import metrics\n",
        "import imblearn\n",
        "from imblearn.over_sampling import RandomOverSampler\n",
        "from sklearn.model_selection import StratifiedKFold\n",
        "from sklearn.feature_selection import SelectFromModel\n",
        "from numpy import sort\n",
        "from sklearn.preprocessing import StandardScaler \n",
        "from sklearn.ensemble import RandomForestClassifier \n",
        "from sklearn.metrics import roc_auc_score\n",
        "from sklearn.model_selection import StratifiedKFold"
      ]
    },
    {
      "cell_type": "markdown",
      "metadata": {
        "id": "9VCUbCy334vk"
      },
      "source": [
        "***Reading the csv files***"
      ]
    },
    {
      "cell_type": "code",
      "execution_count": null,
      "metadata": {
        "colab": {
          "base_uri": "https://localhost:8080/"
        },
        "id": "KmI-UzpN30nj",
        "outputId": "295e8984-6324-454c-a6fc-9db8cc2672e1"
      },
      "outputs": [
        {
          "name": "stderr",
          "output_type": "stream",
          "text": [
            "/usr/local/lib/python3.7/dist-packages/IPython/core/interactiveshell.py:3326: DtypeWarning: Columns (760) have mixed types.Specify dtype option on import or set low_memory=False.\n",
            "  exec(code_obj, self.user_global_ns, self.user_ns)\n"
          ]
        }
      ],
      "source": [
        "df = pd.read_csv(\"2022_Competition_Training.csv\")\n"
      ]
    },
    {
      "cell_type": "markdown",
      "metadata": {
        "id": "ECdkPpnd5VD8"
      },
      "source": [
        "***Handling Null values***"
      ]
    },
    {
      "cell_type": "code",
      "execution_count": null,
      "metadata": {
        "id": "ROoS5YNHVySu"
      },
      "outputs": [],
      "source": [
        "categorical_cols = df.select_dtypes(include=['object']).columns"
      ]
    },
    {
      "cell_type": "code",
      "execution_count": null,
      "metadata": {
        "colab": {
          "base_uri": "https://localhost:8080/"
        },
        "id": "8ehFHCs8V2gk",
        "outputId": "d52d63ea-f519-4db6-d867-4d81957aceca"
      },
      "outputs": [
        {
          "data": {
            "text/plain": [
              "cons_mobplus             11150\n",
              "cms_ra_factor_type_cd     2461\n",
              "cons_homstat             11159\n",
              "sex_cd                       0\n",
              "lang_spoken_cd           18936\n",
              "rucc_category                0\n",
              "cms_race_cd                  0\n",
              "dtype: int64"
            ]
          },
          "execution_count": 57,
          "metadata": {},
          "output_type": "execute_result"
        }
      ],
      "source": [
        "df[categorical_cols].isna().sum()"
      ]
    },
    {
      "cell_type": "code",
      "execution_count": null,
      "metadata": {
        "id": "2DM3g1ITWeTN"
      },
      "outputs": [],
      "source": [
        "df['lang_spoken_cd'] = df['lang_spoken_cd'].fillna('ENG')\n",
        "df['cons_mobplus'] = df['cons_mobplus'].fillna('U')\n",
        "df['cms_ra_factor_type_cd'] = df['cms_ra_factor_type_cd'].fillna('CN')\n",
        "df['cons_homstat'] = df['cons_homstat'].fillna('U')"
      ]
    },
    {
      "cell_type": "code",
      "execution_count": null,
      "metadata": {
        "colab": {
          "base_uri": "https://localhost:8080/"
        },
        "id": "BdLFeqxcGj7g",
        "outputId": "030185d5-26f1-49cf-a1b2-e494e8d03580"
      },
      "outputs": [
        {
          "data": {
            "text/plain": [
              "(48300, 881)"
            ]
          },
          "execution_count": 59,
          "metadata": {},
          "output_type": "execute_result"
        }
      ],
      "source": [
        "df.shape"
      ]
    },
    {
      "cell_type": "code",
      "execution_count": null,
      "metadata": {
        "id": "ZepvWysqL54z"
      },
      "outputs": [],
      "source": [
        "df1 = df.dropna(thresh=45885, axis = 1)"
      ]
    },
    {
      "cell_type": "markdown",
      "metadata": {
        "id": "yuBynPqI4iQB"
      },
      "source": [
        "***Some more data cleaning***"
      ]
    },
    {
      "cell_type": "code",
      "execution_count": null,
      "metadata": {
        "id": "R2LU2CwQ4dTC"
      },
      "outputs": [],
      "source": [
        "df1 = df1.dropna(axis = 0)\n",
        "df1 = df1.drop(columns = ['id'])"
      ]
    },
    {
      "cell_type": "code",
      "execution_count": null,
      "metadata": {
        "id": "UJf8A2aX727E"
      },
      "outputs": [],
      "source": [
        "df1 = df1[df1.cms_race_cd != \"*\"]\n",
        "df1 = df1[df1.lang_spoken_cd != \"*\"]\n",
        "df1 = df1[df1.cms_ra_factor_type_cd != \"*\"]\n",
        "df1 = df1.astype({\"cms_race_cd\":int})\n",
        "categorical_cols = df1.select_dtypes(include=['object']).columns"
      ]
    },
    {
      "cell_type": "markdown",
      "metadata": {
        "id": "XC8lpMyl8L4H"
      },
      "source": [
        "***Splitting the dataset into features and labels***"
      ]
    },
    {
      "cell_type": "code",
      "execution_count": null,
      "metadata": {
        "id": "jJGKFpwKj7kL"
      },
      "outputs": [],
      "source": [
        "X1 = df1.drop('hi_flag', axis = 1)\n",
        "y1 = df1['hi_flag']\n",
        "\n",
        "#X1 = X1.drop(0, axis = 1)"
      ]
    },
    {
      "cell_type": "code",
      "execution_count": null,
      "metadata": {
        "id": "jxR_C_C7Wxyq"
      },
      "outputs": [],
      "source": [
        "X1 = X1.reset_index(drop=True) # resetting the indices\n",
        "y1 = y1.reset_index(drop =True)"
      ]
    },
    {
      "cell_type": "markdown",
      "metadata": {
        "id": "ARrbR8_x73ud"
      },
      "source": [
        "***Dealing with the categorical variables***"
      ]
    },
    {
      "cell_type": "code",
      "execution_count": null,
      "metadata": {
        "colab": {
          "base_uri": "https://localhost:8080/"
        },
        "id": "8AvF4qHor3bu",
        "outputId": "f94bcdf3-a43a-4248-8e8c-58f49700dc0c"
      },
      "outputs": [
        {
          "data": {
            "text/plain": [
              "Index(['cons_mobplus', 'cms_ra_factor_type_cd', 'cons_homstat', 'sex_cd',\n",
              "       'lang_spoken_cd', 'rucc_category'],\n",
              "      dtype='object')"
            ]
          },
          "execution_count": 65,
          "metadata": {},
          "output_type": "execute_result"
        }
      ],
      "source": [
        "categorical_cols"
      ]
    },
    {
      "cell_type": "code",
      "execution_count": null,
      "metadata": {
        "id": "wf8a1Xmo_zyt"
      },
      "outputs": [],
      "source": [
        "X1 = pd.get_dummies(X1, columns = categorical_cols)"
      ]
    },
    {
      "cell_type": "markdown",
      "metadata": {
        "id": "rJLfDzPR6PSn"
      },
      "source": [
        "***Automatic feature selection***"
      ]
    },
    {
      "cell_type": "code",
      "execution_count": null,
      "metadata": {
        "colab": {
          "base_uri": "https://localhost:8080/"
        },
        "id": "pudLG23GhFLE",
        "outputId": "2c34a94e-e7f1-4f03-8975-84b578228440"
      },
      "outputs": [
        {
          "data": {
            "text/plain": [
              "185"
            ]
          },
          "execution_count": 67,
          "metadata": {},
          "output_type": "execute_result"
        }
      ],
      "source": [
        "from sklearn.feature_selection import SelectFromModel\n",
        "sel = SelectFromModel(RandomForestClassifier(n_estimators = 175, max_depth = 7, min_samples_leaf = 25, n_jobs = -1, bootstrap = True, random_state = 42))\n",
        "sel.fit(X1, y1)\n",
        "selected_feat= X1.columns[(sel.get_support())]\n",
        "len(selected_feat)"
      ]
    },
    {
      "cell_type": "code",
      "execution_count": null,
      "metadata": {
        "colab": {
          "base_uri": "https://localhost:8080/"
        },
        "id": "EzfulAMcdUtP",
        "outputId": "e425fe98-ff64-427e-985b-1cc81eed88d1"
      },
      "outputs": [
        {
          "data": {
            "text/plain": [
              "['atlas_age65andolderpct2010',\n",
              " 'atlas_orchard_farms12',\n",
              " 'atlas_pct_diabetes_adults13',\n",
              " 'atlas_totalocchu',\n",
              " 'atlas_totalpopacs',\n",
              " 'atlas_totalpopest2016',\n",
              " 'bh_agad_pmpm_ct',\n",
              " 'bh_cdto_pmpm_ct',\n",
              " 'bh_dema_pmpm_ct',\n",
              " 'cci_cpd_pmpm_ct',\n",
              " 'cci_score',\n",
              " 'cms_disabled_ind',\n",
              " 'cms_dual_eligible_ind',\n",
              " 'cms_low_income_ind',\n",
              " 'cms_orig_reas_entitle_cd',\n",
              " 'cms_ra_factor_type_cd_CF',\n",
              " 'cms_ra_factor_type_cd_CN',\n",
              " 'cms_ra_factor_type_cd_CP',\n",
              " 'cms_race_cd',\n",
              " 'cmsd1_bld_pmpm_ct',\n",
              " 'cmsd1_cir_pmpm_ct',\n",
              " 'cmsd1_end_pmpm_ct',\n",
              " 'cmsd1_eye_pmpm_ct',\n",
              " 'cmsd1_gus_pmpm_ct',\n",
              " 'cmsd1_inj_pmpm_ct',\n",
              " 'cmsd1_men_pmpm_ct',\n",
              " 'cmsd1_mus_pmpm_ct',\n",
              " 'cmsd1_ner_pmpm_ct',\n",
              " 'cmsd1_res_pmpm_ct',\n",
              " 'cmsd1_sns_pmpm_ct',\n",
              " 'cmsd1_vco_pmpm_ct',\n",
              " 'cmsd2_bld_hemorrhagic_pmpm_ct',\n",
              " 'cmsd2_cir_hypertensive_pmpm_ct',\n",
              " 'cmsd2_cir_other_heart_disease_pmpm_ct',\n",
              " 'cmsd2_end_dm_pmpm_ct',\n",
              " 'cmsd2_end_metabolic_pmpm_ct',\n",
              " 'cmsd2_end_obese_pmpm_ct',\n",
              " 'cmsd2_gus_kidney_pmpm_ct',\n",
              " 'cmsd2_men_mad_ind',\n",
              " 'cmsd2_men_mad_pmpm_ct',\n",
              " 'cmsd2_men_men_substance_pmpm_ct',\n",
              " 'cmsd2_men_nonpsychotic_pmpm_ct',\n",
              " 'cmsd2_mus_dorsopath_other_pmpm_ct',\n",
              " 'cmsd2_mus_joint_pmpm_ct',\n",
              " 'cmsd2_ner_episodic/paroxysmal_pmpm_ct',\n",
              " 'cmsd2_ner_ner_other_pmpm_ct',\n",
              " 'cmsd2_res_res_lower_pmpm_ct',\n",
              " 'cmsd2_res_res_other_pmpm_ct',\n",
              " 'cmsd2_skn_radiation_pmpm_ct',\n",
              " 'cmsd2_skn_skn_inf_pmpm_ct',\n",
              " 'cmsd2_skn_skn_other_pmpm_ct',\n",
              " 'cmsd2_sns_digest_abdomen_pmpm_ct',\n",
              " 'cmsd2_sns_general_pmpm_ct',\n",
              " 'cmsd2_sns_imaging_pmpm_ct',\n",
              " 'cmsd2_sns_men_pmpm_ct',\n",
              " 'cmsd2_sns_res_pmpm_ct',\n",
              " 'cmsd2_vco_bmi_pmpm_ct',\n",
              " 'cmsd2_vco_exam_pmpm_ct',\n",
              " 'cmsd2_vco_vco_other_pmpm_ct',\n",
              " 'cnt_cp_emails_0',\n",
              " 'cnt_cp_emails_1',\n",
              " 'cnt_cp_emails_10',\n",
              " 'cnt_cp_emails_3',\n",
              " 'cnt_cp_emails_4',\n",
              " 'cnt_cp_emails_5',\n",
              " 'cnt_cp_emails_6',\n",
              " 'cnt_cp_emails_7',\n",
              " 'cnt_cp_emails_8',\n",
              " 'cnt_cp_emails_9',\n",
              " 'cnt_cp_emails_pmpm_ct',\n",
              " 'cnt_cp_print_0',\n",
              " 'cnt_cp_print_1',\n",
              " 'cnt_cp_print_10',\n",
              " 'cnt_cp_print_11',\n",
              " 'cnt_cp_print_3',\n",
              " 'cnt_cp_print_9',\n",
              " 'cnt_cp_print_pmpm_ct',\n",
              " 'cnt_cp_vat_2',\n",
              " 'cnt_cp_vat_3',\n",
              " 'cnt_cp_vat_5',\n",
              " 'cnt_cp_vat_7',\n",
              " 'cnt_cp_vat_8',\n",
              " 'cnt_cp_vat_9',\n",
              " 'cnt_cp_vat_pmpm_ct',\n",
              " 'cnt_cp_webstatement_0',\n",
              " 'cnt_cp_webstatement_1',\n",
              " 'cnt_cp_webstatement_10',\n",
              " 'cnt_cp_webstatement_11',\n",
              " 'cnt_cp_webstatement_2',\n",
              " 'cnt_cp_webstatement_3',\n",
              " 'cnt_cp_webstatement_4',\n",
              " 'cnt_cp_webstatement_5',\n",
              " 'cnt_cp_webstatement_6',\n",
              " 'cnt_cp_webstatement_7',\n",
              " 'cnt_cp_webstatement_8',\n",
              " 'cnt_cp_webstatement_9',\n",
              " 'cnt_cp_webstatement_pmpm_ct',\n",
              " 'cons_homstat_R',\n",
              " 'cons_homstat_U',\n",
              " 'cons_homstat_Y',\n",
              " 'cons_mobplus_M',\n",
              " 'cons_mobplus_U',\n",
              " 'dcsi_score',\n",
              " 'est_age',\n",
              " 'med_er_ds_clm',\n",
              " 'med_outpatient_ds_clm',\n",
              " 'med_physician_office_ds_clm',\n",
              " 'prov_line_pmpm_cnt',\n",
              " 'rev_pm_lab_pmpm_cd_ct',\n",
              " 'rev_pm_phar_pmpm_cd_ct',\n",
              " 'rev_pm_raddia_pmpm_cd_ct',\n",
              " 'rwjf_air_pollute_density',\n",
              " 'rwjf_drinkwater_violate_ind',\n",
              " 'rwjf_food_env_inx',\n",
              " 'rx_bh_pmpm_cost',\n",
              " 'rx_bh_pmpm_ct',\n",
              " 'rx_branded_pmpm_cost',\n",
              " 'rx_branded_pmpm_ct',\n",
              " 'rx_days_since_last_script',\n",
              " 'rx_generic_pmpm_cost',\n",
              " 'rx_generic_pmpm_ct',\n",
              " 'rx_hum_01_pmpm_cost',\n",
              " 'rx_hum_01_pmpm_ct',\n",
              " 'rx_hum_05_pmpm_cost',\n",
              " 'rx_hum_05_pmpm_ct',\n",
              " 'rx_hum_16_pmpm_cost',\n",
              " 'rx_hum_16_pmpm_ct',\n",
              " 'rx_hum_24_pmpm_cost',\n",
              " 'rx_hum_24_pmpm_ct',\n",
              " 'rx_hum_29_pmpm_cost',\n",
              " 'rx_hum_38_pmpm_cost',\n",
              " 'rx_hum_51_pmpm_cost',\n",
              " 'rx_hum_54_pmpm_cost',\n",
              " 'rx_hum_55_pmpm_cost',\n",
              " 'rx_hum_55_pmpm_ct',\n",
              " 'rx_hum_56_pmpm_cost',\n",
              " 'rx_hum_56_pmpm_ct',\n",
              " 'rx_hum_74_pmpm_cost',\n",
              " 'rx_hum_75_pmpm_cost',\n",
              " 'rx_hum_75_pmpm_ct',\n",
              " 'rx_hum_76_pmpm_cost',\n",
              " 'rx_hum_76_pmpm_ct',\n",
              " 'rx_hum_80_pmpm_cost',\n",
              " 'rx_hum_81_pmpm_cost',\n",
              " 'rx_hum_91_pmpm_cost',\n",
              " 'rx_mail_pmpm_cost',\n",
              " 'rx_mail_pmpm_ct',\n",
              " 'rx_maint_pmpm_cost',\n",
              " 'rx_maint_pmpm_ct',\n",
              " 'rx_nonbh_pmpm_cost',\n",
              " 'rx_nonbh_pmpm_ct',\n",
              " 'rx_nonmail_pmpm_cost',\n",
              " 'rx_nonmail_pmpm_ct',\n",
              " 'rx_nonmaint_pmpm_cost',\n",
              " 'rx_nonmaint_pmpm_ct',\n",
              " 'rx_nonotc_pmpm_cost',\n",
              " 'rx_nonotc_pmpm_ct',\n",
              " 'rx_nonspecialty_pmpm_cost',\n",
              " 'rx_nonspecialty_pmpm_ct',\n",
              " 'rx_overall_pmpm_cost',\n",
              " 'rx_overall_pmpm_ct',\n",
              " 'rx_perphy_pmpm_ct',\n",
              " 'rx_phar_cat_cvs_pmpm_ct',\n",
              " 'rx_phar_cat_walgreen_pmpm_ct',\n",
              " 'rx_pharmacies_pmpm_ct',\n",
              " 'rx_specialty_ntwk_pmpm_cost',\n",
              " 'rx_tier_1_pmpm_ct',\n",
              " 'rx_tier_2_pmpm_ct',\n",
              " 'rx_tier_3_pmpm_ct',\n",
              " 'rx_tier_4_pmpm_ct',\n",
              " 'sex_cd_F',\n",
              " 'total_allowed_pmpm_cost',\n",
              " 'total_ambulance_allowed_pmpm_cost',\n",
              " 'total_ambulance_ds_clm',\n",
              " 'total_ambulance_visit_ct_pmpm',\n",
              " 'total_bh_allowed_pmpm_cost',\n",
              " 'total_er_allowed_pmpm_cost',\n",
              " 'total_ip_acute_allowed_pmpm_cost',\n",
              " 'total_med_allowed_pmpm_cost',\n",
              " 'total_outpatient_allowed_pmpm_cost',\n",
              " 'total_outpatient_ds_clm',\n",
              " 'total_outpatient_visit_ct_pmpm',\n",
              " 'total_physician_office_allowed_pmpm_cost',\n",
              " 'total_physician_office_ds_clm',\n",
              " 'total_physician_office_visit_ct_pmpm']"
            ]
          },
          "execution_count": 68,
          "metadata": {},
          "output_type": "execute_result"
        }
      ],
      "source": [
        "listcols = list(selected_feat)\n",
        "listcols.sort()\n",
        "listcols"
      ]
    },
    {
      "cell_type": "markdown",
      "metadata": {
        "id": "2hyM-_1c6Urk"
      },
      "source": [
        "***Feature engineering***"
      ]
    },
    {
      "cell_type": "code",
      "execution_count": null,
      "metadata": {
        "id": "8fsuZJtZnvrL"
      },
      "outputs": [],
      "source": [
        "X1 = X1[listcols]"
      ]
    },
    {
      "cell_type": "code",
      "execution_count": null,
      "metadata": {
        "id": "szDWuhsqhstt"
      },
      "outputs": [],
      "source": [
        "X1['avg_people_per_home'] = X1['atlas_totalpopacs']/X1['atlas_totalocchu']"
      ]
    },
    {
      "cell_type": "code",
      "execution_count": null,
      "metadata": {
        "id": "D757-SMGjadg"
      },
      "outputs": [],
      "source": [
        "cols_drop = ['atlas_totalpopacs','atlas_totalocchu']"
      ]
    },
    {
      "cell_type": "code",
      "execution_count": null,
      "metadata": {
        "id": "uqqaV10Uhs2L"
      },
      "outputs": [],
      "source": [
        "import re\n",
        "p = re.compile('bh.*ct')\n",
        "l1 = [ s for s in listcols if p.match(s) ]"
      ]
    },
    {
      "cell_type": "code",
      "execution_count": null,
      "metadata": {
        "id": "lMEvAcjkji_U"
      },
      "outputs": [],
      "source": [
        "for i in l1:\n",
        "  cols_drop.append(i)"
      ]
    },
    {
      "cell_type": "code",
      "execution_count": null,
      "metadata": {
        "id": "ZP5rAksGit-U"
      },
      "outputs": [],
      "source": [
        "X1['total_bh_claims_mnt'] = X1[l1].sum(axis = 1)"
      ]
    },
    {
      "cell_type": "code",
      "execution_count": null,
      "metadata": {
        "id": "Q1ojT8A6kTlw"
      },
      "outputs": [],
      "source": [
        "p = re.compile('cmsd1.*ct')\n",
        "l3 = [ s for s in listcols if p.match(s) ]\n",
        "for i in l3:\n",
        "  cols_drop.append(i)\n",
        "X1['cmsd1_claims_ct'] = X1[l3].sum(axis = 1)"
      ]
    },
    {
      "cell_type": "code",
      "execution_count": null,
      "metadata": {
        "id": "lCiu_OsckwEm"
      },
      "outputs": [],
      "source": [
        "p = re.compile('cmsd2.*ct')\n",
        "l4 = [ s for s in listcols if p.match(s) ]\n",
        "for i in l4:\n",
        "  cols_drop.append(i)\n",
        "X1['cmsd2_claims_ct'] = X1[l4].sum(axis = 1)"
      ]
    },
    {
      "cell_type": "code",
      "execution_count": null,
      "metadata": {
        "id": "sFhMWyM4lRiB"
      },
      "outputs": [],
      "source": [
        "p = re.compile('.*emails_[0-9][01]?')\n",
        "l5 = [ s for s in listcols if p.match(s) ]\n",
        "for i in l5:\n",
        "  cols_drop.append(i)"
      ]
    },
    {
      "cell_type": "code",
      "execution_count": null,
      "metadata": {
        "id": "AhEynAe7mKD1"
      },
      "outputs": [],
      "source": [
        "p = re.compile('.*print_[0-9][01]?')\n",
        "l6 = [ s for s in listcols if p.match(s) ]\n",
        "for i in l6:\n",
        "  cols_drop.append(i)"
      ]
    },
    {
      "cell_type": "code",
      "execution_count": null,
      "metadata": {
        "id": "KqqaoeQlmZr6"
      },
      "outputs": [],
      "source": [
        "p = re.compile('.*vat_[0-9][01]?')\n",
        "l7 = [ s for s in listcols if p.match(s) ]\n",
        "for i in l7:\n",
        "  cols_drop.append(i)"
      ]
    },
    {
      "cell_type": "code",
      "execution_count": null,
      "metadata": {
        "id": "eRIDwSeCCPwx"
      },
      "outputs": [],
      "source": [
        "p = re.compile('.*webstatement_[0-9][01]?')\n",
        "l11 = [ s for s in listcols if p.match(s) ]\n",
        "for i in l11:\n",
        "  cols_drop.append(i)"
      ]
    },
    {
      "cell_type": "code",
      "execution_count": null,
      "metadata": {
        "id": "D3E0FRwqtPcg"
      },
      "outputs": [],
      "source": [
        "p = re.compile('med.*clm')\n",
        "l8 = [ s for s in listcols if p.match(s) ]\n",
        "for i in l8:\n",
        "  cols_drop.append(i)\n",
        "X1['med_claims_avg_days'] = (X1[l8].sum(axis = 1))/len(l8)"
      ]
    },
    {
      "cell_type": "code",
      "execution_count": null,
      "metadata": {
        "id": "sl73PqZltwzk"
      },
      "outputs": [],
      "source": [
        "p = re.compile('rev.*ct')\n",
        "l9 = [ s for s in listcols if p.match(s) ]\n",
        "for i in l9:\n",
        "  cols_drop.append(i)\n",
        "X1['avg_rev_ct'] = (X1[l9].sum(axis = 1))/len(l9)"
      ]
    },
    {
      "cell_type": "code",
      "execution_count": null,
      "metadata": {
        "id": "ExQnpX1Uw4mb"
      },
      "outputs": [],
      "source": [
        "X1['rx_tier'] = X1['rx_tier_1_pmpm_ct'] + X1['rx_tier_2_pmpm_ct'] + X1['rx_tier_3_pmpm_ct'] + X1['rx_tier_4_pmpm_ct']"
      ]
    },
    {
      "cell_type": "code",
      "execution_count": null,
      "metadata": {
        "id": "AdyZEn5YmtSd"
      },
      "outputs": [],
      "source": [
        "cols_drop.append('rx_tier_1_pmpm_ct')\n",
        "cols_drop.append('rx_tier_2_pmpm_ct')\n",
        "cols_drop.append('rx_tier_3_pmpm_ct')\n",
        "cols_drop.append('rx_tier_4_pmpm_ct')"
      ]
    },
    {
      "cell_type": "code",
      "execution_count": null,
      "metadata": {
        "colab": {
          "base_uri": "https://localhost:8080/",
          "height": 488
        },
        "id": "OKFsMwRbd_OF",
        "outputId": "9079b76f-2e89-4c32-b7bd-c21a664bc403"
      },
      "outputs": [
        {
          "data": {
            "text/html": [
              "\n",
              "  <div id=\"df-e88da6f6-64a6-423b-80fa-801be2747257\">\n",
              "    <div class=\"colab-df-container\">\n",
              "      <div>\n",
              "<style scoped>\n",
              "    .dataframe tbody tr th:only-of-type {\n",
              "        vertical-align: middle;\n",
              "    }\n",
              "\n",
              "    .dataframe tbody tr th {\n",
              "        vertical-align: top;\n",
              "    }\n",
              "\n",
              "    .dataframe thead th {\n",
              "        text-align: right;\n",
              "    }\n",
              "</style>\n",
              "<table border=\"1\" class=\"dataframe\">\n",
              "  <thead>\n",
              "    <tr style=\"text-align: right;\">\n",
              "      <th></th>\n",
              "      <th>atlas_age65andolderpct2010</th>\n",
              "      <th>atlas_orchard_farms12</th>\n",
              "      <th>atlas_pct_diabetes_adults13</th>\n",
              "      <th>atlas_totalpopest2016</th>\n",
              "      <th>cci_cpd_pmpm_ct</th>\n",
              "      <th>cci_score</th>\n",
              "      <th>cms_disabled_ind</th>\n",
              "      <th>cms_dual_eligible_ind</th>\n",
              "      <th>cms_low_income_ind</th>\n",
              "      <th>cms_orig_reas_entitle_cd</th>\n",
              "      <th>...</th>\n",
              "      <th>total_physician_office_allowed_pmpm_cost</th>\n",
              "      <th>total_physician_office_ds_clm</th>\n",
              "      <th>total_physician_office_visit_ct_pmpm</th>\n",
              "      <th>avg_people_per_home</th>\n",
              "      <th>total_bh_claims_mnt</th>\n",
              "      <th>cmsd1_claims_ct</th>\n",
              "      <th>cmsd2_claims_ct</th>\n",
              "      <th>med_claims_avg_days</th>\n",
              "      <th>avg_rev_ct</th>\n",
              "      <th>rx_tier</th>\n",
              "    </tr>\n",
              "  </thead>\n",
              "  <tbody>\n",
              "    <tr>\n",
              "      <th>0</th>\n",
              "      <td>17.13</td>\n",
              "      <td>11.0</td>\n",
              "      <td>15.9</td>\n",
              "      <td>36913.0</td>\n",
              "      <td>0.00</td>\n",
              "      <td>4.0</td>\n",
              "      <td>0</td>\n",
              "      <td>0</td>\n",
              "      <td>0</td>\n",
              "      <td>0.0</td>\n",
              "      <td>...</td>\n",
              "      <td>54.46</td>\n",
              "      <td>3</td>\n",
              "      <td>0.33</td>\n",
              "      <td>2.372964</td>\n",
              "      <td>0.00</td>\n",
              "      <td>0.82</td>\n",
              "      <td>0.56</td>\n",
              "      <td>357.666667</td>\n",
              "      <td>0.000000</td>\n",
              "      <td>2.32</td>\n",
              "    </tr>\n",
              "    <tr>\n",
              "      <th>1</th>\n",
              "      <td>25.76</td>\n",
              "      <td>58.0</td>\n",
              "      <td>13.4</td>\n",
              "      <td>182835.0</td>\n",
              "      <td>0.00</td>\n",
              "      <td>6.0</td>\n",
              "      <td>0</td>\n",
              "      <td>0</td>\n",
              "      <td>1</td>\n",
              "      <td>0.0</td>\n",
              "      <td>...</td>\n",
              "      <td>175.12</td>\n",
              "      <td>29</td>\n",
              "      <td>1.33</td>\n",
              "      <td>2.492978</td>\n",
              "      <td>0.83</td>\n",
              "      <td>7.75</td>\n",
              "      <td>6.85</td>\n",
              "      <td>188.000000</td>\n",
              "      <td>0.996667</td>\n",
              "      <td>4.57</td>\n",
              "    </tr>\n",
              "    <tr>\n",
              "      <th>2</th>\n",
              "      <td>12.76</td>\n",
              "      <td>48.0</td>\n",
              "      <td>11.1</td>\n",
              "      <td>396484.0</td>\n",
              "      <td>0.08</td>\n",
              "      <td>8.0</td>\n",
              "      <td>0</td>\n",
              "      <td>0</td>\n",
              "      <td>0</td>\n",
              "      <td>0.0</td>\n",
              "      <td>...</td>\n",
              "      <td>153.46</td>\n",
              "      <td>85</td>\n",
              "      <td>1.33</td>\n",
              "      <td>2.522333</td>\n",
              "      <td>0.08</td>\n",
              "      <td>7.22</td>\n",
              "      <td>3.71</td>\n",
              "      <td>226.666667</td>\n",
              "      <td>0.000000</td>\n",
              "      <td>2.90</td>\n",
              "    </tr>\n",
              "    <tr>\n",
              "      <th>3</th>\n",
              "      <td>13.32</td>\n",
              "      <td>9.0</td>\n",
              "      <td>9.9</td>\n",
              "      <td>269141.0</td>\n",
              "      <td>0.00</td>\n",
              "      <td>2.0</td>\n",
              "      <td>0</td>\n",
              "      <td>1</td>\n",
              "      <td>1</td>\n",
              "      <td>0.0</td>\n",
              "      <td>...</td>\n",
              "      <td>15.47</td>\n",
              "      <td>23</td>\n",
              "      <td>0.08</td>\n",
              "      <td>2.654108</td>\n",
              "      <td>0.00</td>\n",
              "      <td>2.05</td>\n",
              "      <td>1.23</td>\n",
              "      <td>173.333333</td>\n",
              "      <td>0.136667</td>\n",
              "      <td>1.33</td>\n",
              "    </tr>\n",
              "    <tr>\n",
              "      <th>4</th>\n",
              "      <td>16.34</td>\n",
              "      <td>14.0</td>\n",
              "      <td>11.7</td>\n",
              "      <td>17983.0</td>\n",
              "      <td>0.00</td>\n",
              "      <td>3.0</td>\n",
              "      <td>1</td>\n",
              "      <td>1</td>\n",
              "      <td>1</td>\n",
              "      <td>1.0</td>\n",
              "      <td>...</td>\n",
              "      <td>27.33</td>\n",
              "      <td>177</td>\n",
              "      <td>0.25</td>\n",
              "      <td>3.406780</td>\n",
              "      <td>0.00</td>\n",
              "      <td>2.40</td>\n",
              "      <td>2.46</td>\n",
              "      <td>246.666667</td>\n",
              "      <td>0.000000</td>\n",
              "      <td>9.48</td>\n",
              "    </tr>\n",
              "    <tr>\n",
              "      <th>...</th>\n",
              "      <td>...</td>\n",
              "      <td>...</td>\n",
              "      <td>...</td>\n",
              "      <td>...</td>\n",
              "      <td>...</td>\n",
              "      <td>...</td>\n",
              "      <td>...</td>\n",
              "      <td>...</td>\n",
              "      <td>...</td>\n",
              "      <td>...</td>\n",
              "      <td>...</td>\n",
              "      <td>...</td>\n",
              "      <td>...</td>\n",
              "      <td>...</td>\n",
              "      <td>...</td>\n",
              "      <td>...</td>\n",
              "      <td>...</td>\n",
              "      <td>...</td>\n",
              "      <td>...</td>\n",
              "      <td>...</td>\n",
              "      <td>...</td>\n",
              "    </tr>\n",
              "    <tr>\n",
              "      <th>42015</th>\n",
              "      <td>13.13</td>\n",
              "      <td>2.0</td>\n",
              "      <td>12.7</td>\n",
              "      <td>26622.0</td>\n",
              "      <td>0.00</td>\n",
              "      <td>5.0</td>\n",
              "      <td>0</td>\n",
              "      <td>0</td>\n",
              "      <td>0</td>\n",
              "      <td>0.0</td>\n",
              "      <td>...</td>\n",
              "      <td>77.67</td>\n",
              "      <td>63</td>\n",
              "      <td>0.58</td>\n",
              "      <td>36.970752</td>\n",
              "      <td>0.00</td>\n",
              "      <td>2.72</td>\n",
              "      <td>2.44</td>\n",
              "      <td>225.666667</td>\n",
              "      <td>0.166667</td>\n",
              "      <td>1.49</td>\n",
              "    </tr>\n",
              "    <tr>\n",
              "      <th>42016</th>\n",
              "      <td>13.50</td>\n",
              "      <td>5.0</td>\n",
              "      <td>15.6</td>\n",
              "      <td>9251.0</td>\n",
              "      <td>0.00</td>\n",
              "      <td>3.0</td>\n",
              "      <td>1</td>\n",
              "      <td>0</td>\n",
              "      <td>0</td>\n",
              "      <td>1.0</td>\n",
              "      <td>...</td>\n",
              "      <td>43.84</td>\n",
              "      <td>44</td>\n",
              "      <td>0.51</td>\n",
              "      <td>1.371897</td>\n",
              "      <td>0.00</td>\n",
              "      <td>1.90</td>\n",
              "      <td>2.50</td>\n",
              "      <td>237.666667</td>\n",
              "      <td>0.053333</td>\n",
              "      <td>1.24</td>\n",
              "    </tr>\n",
              "    <tr>\n",
              "      <th>42017</th>\n",
              "      <td>8.14</td>\n",
              "      <td>44.0</td>\n",
              "      <td>8.5</td>\n",
              "      <td>4589928.0</td>\n",
              "      <td>0.00</td>\n",
              "      <td>2.0</td>\n",
              "      <td>1</td>\n",
              "      <td>0</td>\n",
              "      <td>0</td>\n",
              "      <td>1.0</td>\n",
              "      <td>...</td>\n",
              "      <td>59.36</td>\n",
              "      <td>48</td>\n",
              "      <td>0.58</td>\n",
              "      <td>2.886399</td>\n",
              "      <td>0.00</td>\n",
              "      <td>1.08</td>\n",
              "      <td>0.48</td>\n",
              "      <td>242.000000</td>\n",
              "      <td>0.000000</td>\n",
              "      <td>1.73</td>\n",
              "    </tr>\n",
              "    <tr>\n",
              "      <th>42018</th>\n",
              "      <td>23.30</td>\n",
              "      <td>23.0</td>\n",
              "      <td>12.8</td>\n",
              "      <td>205249.0</td>\n",
              "      <td>0.00</td>\n",
              "      <td>9.0</td>\n",
              "      <td>0</td>\n",
              "      <td>0</td>\n",
              "      <td>0</td>\n",
              "      <td>0.0</td>\n",
              "      <td>...</td>\n",
              "      <td>60.00</td>\n",
              "      <td>60</td>\n",
              "      <td>0.33</td>\n",
              "      <td>2.478897</td>\n",
              "      <td>0.08</td>\n",
              "      <td>2.47</td>\n",
              "      <td>1.96</td>\n",
              "      <td>204.333333</td>\n",
              "      <td>0.000000</td>\n",
              "      <td>3.48</td>\n",
              "    </tr>\n",
              "    <tr>\n",
              "      <th>42019</th>\n",
              "      <td>15.65</td>\n",
              "      <td>265.0</td>\n",
              "      <td>12.6</td>\n",
              "      <td>205631.0</td>\n",
              "      <td>0.00</td>\n",
              "      <td>3.0</td>\n",
              "      <td>0</td>\n",
              "      <td>0</td>\n",
              "      <td>0</td>\n",
              "      <td>0.0</td>\n",
              "      <td>...</td>\n",
              "      <td>93.55</td>\n",
              "      <td>21</td>\n",
              "      <td>0.66</td>\n",
              "      <td>2.866336</td>\n",
              "      <td>0.00</td>\n",
              "      <td>3.15</td>\n",
              "      <td>1.32</td>\n",
              "      <td>84.000000</td>\n",
              "      <td>0.550000</td>\n",
              "      <td>2.24</td>\n",
              "    </tr>\n",
              "  </tbody>\n",
              "</table>\n",
              "<p>42020 rows × 104 columns</p>\n",
              "</div>\n",
              "      <button class=\"colab-df-convert\" onclick=\"convertToInteractive('df-e88da6f6-64a6-423b-80fa-801be2747257')\"\n",
              "              title=\"Convert this dataframe to an interactive table.\"\n",
              "              style=\"display:none;\">\n",
              "        \n",
              "  <svg xmlns=\"http://www.w3.org/2000/svg\" height=\"24px\"viewBox=\"0 0 24 24\"\n",
              "       width=\"24px\">\n",
              "    <path d=\"M0 0h24v24H0V0z\" fill=\"none\"/>\n",
              "    <path d=\"M18.56 5.44l.94 2.06.94-2.06 2.06-.94-2.06-.94-.94-2.06-.94 2.06-2.06.94zm-11 1L8.5 8.5l.94-2.06 2.06-.94-2.06-.94L8.5 2.5l-.94 2.06-2.06.94zm10 10l.94 2.06.94-2.06 2.06-.94-2.06-.94-.94-2.06-.94 2.06-2.06.94z\"/><path d=\"M17.41 7.96l-1.37-1.37c-.4-.4-.92-.59-1.43-.59-.52 0-1.04.2-1.43.59L10.3 9.45l-7.72 7.72c-.78.78-.78 2.05 0 2.83L4 21.41c.39.39.9.59 1.41.59.51 0 1.02-.2 1.41-.59l7.78-7.78 2.81-2.81c.8-.78.8-2.07 0-2.86zM5.41 20L4 18.59l7.72-7.72 1.47 1.35L5.41 20z\"/>\n",
              "  </svg>\n",
              "      </button>\n",
              "      \n",
              "  <style>\n",
              "    .colab-df-container {\n",
              "      display:flex;\n",
              "      flex-wrap:wrap;\n",
              "      gap: 12px;\n",
              "    }\n",
              "\n",
              "    .colab-df-convert {\n",
              "      background-color: #E8F0FE;\n",
              "      border: none;\n",
              "      border-radius: 50%;\n",
              "      cursor: pointer;\n",
              "      display: none;\n",
              "      fill: #1967D2;\n",
              "      height: 32px;\n",
              "      padding: 0 0 0 0;\n",
              "      width: 32px;\n",
              "    }\n",
              "\n",
              "    .colab-df-convert:hover {\n",
              "      background-color: #E2EBFA;\n",
              "      box-shadow: 0px 1px 2px rgba(60, 64, 67, 0.3), 0px 1px 3px 1px rgba(60, 64, 67, 0.15);\n",
              "      fill: #174EA6;\n",
              "    }\n",
              "\n",
              "    [theme=dark] .colab-df-convert {\n",
              "      background-color: #3B4455;\n",
              "      fill: #D2E3FC;\n",
              "    }\n",
              "\n",
              "    [theme=dark] .colab-df-convert:hover {\n",
              "      background-color: #434B5C;\n",
              "      box-shadow: 0px 1px 3px 1px rgba(0, 0, 0, 0.15);\n",
              "      filter: drop-shadow(0px 1px 2px rgba(0, 0, 0, 0.3));\n",
              "      fill: #FFFFFF;\n",
              "    }\n",
              "  </style>\n",
              "\n",
              "      <script>\n",
              "        const buttonEl =\n",
              "          document.querySelector('#df-e88da6f6-64a6-423b-80fa-801be2747257 button.colab-df-convert');\n",
              "        buttonEl.style.display =\n",
              "          google.colab.kernel.accessAllowed ? 'block' : 'none';\n",
              "\n",
              "        async function convertToInteractive(key) {\n",
              "          const element = document.querySelector('#df-e88da6f6-64a6-423b-80fa-801be2747257');\n",
              "          const dataTable =\n",
              "            await google.colab.kernel.invokeFunction('convertToInteractive',\n",
              "                                                     [key], {});\n",
              "          if (!dataTable) return;\n",
              "\n",
              "          const docLinkHtml = 'Like what you see? Visit the ' +\n",
              "            '<a target=\"_blank\" href=https://colab.research.google.com/notebooks/data_table.ipynb>data table notebook</a>'\n",
              "            + ' to learn more about interactive tables.';\n",
              "          element.innerHTML = '';\n",
              "          dataTable['output_type'] = 'display_data';\n",
              "          await google.colab.output.renderOutput(dataTable, element);\n",
              "          const docLink = document.createElement('div');\n",
              "          docLink.innerHTML = docLinkHtml;\n",
              "          element.appendChild(docLink);\n",
              "        }\n",
              "      </script>\n",
              "    </div>\n",
              "  </div>\n",
              "  "
            ],
            "text/plain": [
              "       atlas_age65andolderpct2010  atlas_orchard_farms12  \\\n",
              "0                           17.13                   11.0   \n",
              "1                           25.76                   58.0   \n",
              "2                           12.76                   48.0   \n",
              "3                           13.32                    9.0   \n",
              "4                           16.34                   14.0   \n",
              "...                           ...                    ...   \n",
              "42015                       13.13                    2.0   \n",
              "42016                       13.50                    5.0   \n",
              "42017                        8.14                   44.0   \n",
              "42018                       23.30                   23.0   \n",
              "42019                       15.65                  265.0   \n",
              "\n",
              "       atlas_pct_diabetes_adults13  atlas_totalpopest2016  cci_cpd_pmpm_ct  \\\n",
              "0                             15.9                36913.0             0.00   \n",
              "1                             13.4               182835.0             0.00   \n",
              "2                             11.1               396484.0             0.08   \n",
              "3                              9.9               269141.0             0.00   \n",
              "4                             11.7                17983.0             0.00   \n",
              "...                            ...                    ...              ...   \n",
              "42015                         12.7                26622.0             0.00   \n",
              "42016                         15.6                 9251.0             0.00   \n",
              "42017                          8.5              4589928.0             0.00   \n",
              "42018                         12.8               205249.0             0.00   \n",
              "42019                         12.6               205631.0             0.00   \n",
              "\n",
              "       cci_score  cms_disabled_ind  cms_dual_eligible_ind  cms_low_income_ind  \\\n",
              "0            4.0                 0                      0                   0   \n",
              "1            6.0                 0                      0                   1   \n",
              "2            8.0                 0                      0                   0   \n",
              "3            2.0                 0                      1                   1   \n",
              "4            3.0                 1                      1                   1   \n",
              "...          ...               ...                    ...                 ...   \n",
              "42015        5.0                 0                      0                   0   \n",
              "42016        3.0                 1                      0                   0   \n",
              "42017        2.0                 1                      0                   0   \n",
              "42018        9.0                 0                      0                   0   \n",
              "42019        3.0                 0                      0                   0   \n",
              "\n",
              "       cms_orig_reas_entitle_cd  ...  \\\n",
              "0                           0.0  ...   \n",
              "1                           0.0  ...   \n",
              "2                           0.0  ...   \n",
              "3                           0.0  ...   \n",
              "4                           1.0  ...   \n",
              "...                         ...  ...   \n",
              "42015                       0.0  ...   \n",
              "42016                       1.0  ...   \n",
              "42017                       1.0  ...   \n",
              "42018                       0.0  ...   \n",
              "42019                       0.0  ...   \n",
              "\n",
              "       total_physician_office_allowed_pmpm_cost  \\\n",
              "0                                         54.46   \n",
              "1                                        175.12   \n",
              "2                                        153.46   \n",
              "3                                         15.47   \n",
              "4                                         27.33   \n",
              "...                                         ...   \n",
              "42015                                     77.67   \n",
              "42016                                     43.84   \n",
              "42017                                     59.36   \n",
              "42018                                     60.00   \n",
              "42019                                     93.55   \n",
              "\n",
              "       total_physician_office_ds_clm  total_physician_office_visit_ct_pmpm  \\\n",
              "0                                  3                                  0.33   \n",
              "1                                 29                                  1.33   \n",
              "2                                 85                                  1.33   \n",
              "3                                 23                                  0.08   \n",
              "4                                177                                  0.25   \n",
              "...                              ...                                   ...   \n",
              "42015                             63                                  0.58   \n",
              "42016                             44                                  0.51   \n",
              "42017                             48                                  0.58   \n",
              "42018                             60                                  0.33   \n",
              "42019                             21                                  0.66   \n",
              "\n",
              "       avg_people_per_home  total_bh_claims_mnt  cmsd1_claims_ct  \\\n",
              "0                 2.372964                 0.00             0.82   \n",
              "1                 2.492978                 0.83             7.75   \n",
              "2                 2.522333                 0.08             7.22   \n",
              "3                 2.654108                 0.00             2.05   \n",
              "4                 3.406780                 0.00             2.40   \n",
              "...                    ...                  ...              ...   \n",
              "42015            36.970752                 0.00             2.72   \n",
              "42016             1.371897                 0.00             1.90   \n",
              "42017             2.886399                 0.00             1.08   \n",
              "42018             2.478897                 0.08             2.47   \n",
              "42019             2.866336                 0.00             3.15   \n",
              "\n",
              "       cmsd2_claims_ct  med_claims_avg_days  avg_rev_ct  rx_tier  \n",
              "0                 0.56           357.666667    0.000000     2.32  \n",
              "1                 6.85           188.000000    0.996667     4.57  \n",
              "2                 3.71           226.666667    0.000000     2.90  \n",
              "3                 1.23           173.333333    0.136667     1.33  \n",
              "4                 2.46           246.666667    0.000000     9.48  \n",
              "...                ...                  ...         ...      ...  \n",
              "42015             2.44           225.666667    0.166667     1.49  \n",
              "42016             2.50           237.666667    0.053333     1.24  \n",
              "42017             0.48           242.000000    0.000000     1.73  \n",
              "42018             1.96           204.333333    0.000000     3.48  \n",
              "42019             1.32            84.000000    0.550000     2.24  \n",
              "\n",
              "[42020 rows x 104 columns]"
            ]
          },
          "execution_count": 85,
          "metadata": {},
          "output_type": "execute_result"
        }
      ],
      "source": [
        "X1.drop(columns = cols_drop, inplace = True)\n",
        "X1"
      ]
    },
    {
      "cell_type": "markdown",
      "metadata": {
        "id": "_roq3BveyPsx"
      },
      "source": [
        "***RF model***"
      ]
    },
    {
      "cell_type": "code",
      "execution_count": null,
      "metadata": {
        "id": "yCliV8gtiALq"
      },
      "outputs": [],
      "source": [
        "classifier1 = RandomForestClassifier(n_estimators = 160, max_depth = 20, min_samples_leaf = 50, n_jobs = -1, bootstrap = True, random_state = 42)\n",
        "skf = StratifiedKFold(n_splits=10, shuffle=True, random_state = 42)\n",
        "lst_accu_stratified = []\n",
        "for train_index, test_index in skf.split(X1, y1):\n",
        "    X_train = X1.iloc[train_index, :]\n",
        "    y_train = y1[train_index]\n",
        "    X_test = X1.iloc[test_index, :]\n",
        "    y_test = y1[test_index]\n",
        "    classifier1.fit(X_train,y_train)\n",
        "    preds = classifier1.predict_proba(X_test) \n",
        "    lst_accu_stratified.append(roc_auc_score(y_test, preds[:, 1]))\n",
        "from numpy.lib.function_base import average\n",
        "score1 = average(lst_accu_stratified)"
      ]
    },
    {
      "cell_type": "code",
      "execution_count": null,
      "metadata": {
        "colab": {
          "base_uri": "https://localhost:8080/"
        },
        "id": "B9MqV-EIwiTk",
        "outputId": "1a9724e7-97d2-4a3b-ec0b-c003a9de1c27"
      },
      "outputs": [
        {
          "data": {
            "text/plain": [
              "0.7246851864731279"
            ]
          },
          "execution_count": 87,
          "metadata": {},
          "output_type": "execute_result"
        }
      ],
      "source": [
        "score1"
      ]
    },
    {
      "cell_type": "code",
      "execution_count": null,
      "metadata": {
        "colab": {
          "base_uri": "https://localhost:8080/"
        },
        "id": "syl2YMx5kisM",
        "outputId": "359c5edc-be1e-4c0f-a5d3-11a69d20b8ce"
      },
      "outputs": [
        {
          "data": {
            "text/plain": [
              "[0.7474804505135387,\n",
              " 0.7463089402427638,\n",
              " 0.7216123949579831,\n",
              " 0.7112686741363212,\n",
              " 0.7153653127917834,\n",
              " 0.7361928104575164,\n",
              " 0.7275049603174603,\n",
              " 0.6907635416167973,\n",
              " 0.7170699012477859,\n",
              " 0.7332848784493277]"
            ]
          },
          "execution_count": 88,
          "metadata": {},
          "output_type": "execute_result"
        }
      ],
      "source": [
        "lst_accu_stratified"
      ]
    },
    {
      "cell_type": "markdown",
      "metadata": {
        "id": "5QVfX_BM8oEM"
      },
      "source": [
        "***XGBoost model:***"
      ]
    },
    {
      "cell_type": "code",
      "execution_count": null,
      "metadata": {
        "colab": {
          "base_uri": "https://localhost:8080/"
        },
        "id": "MXuK3IR1q5Zk",
        "outputId": "d1851735-fbd8-47f3-ee67-52f295acc565"
      },
      "outputs": [
        {
          "data": {
            "text/plain": [
              "0.7318358533140241"
            ]
          },
          "execution_count": 89,
          "metadata": {},
          "output_type": "execute_result"
        }
      ],
      "source": [
        "classifier2 = XGBClassifier(n_estimators = 180, max_depth = 1, learning_rate = 0.18,tree_method = \"hist\",colsample_bytree = 0.6, scale_pos_weight = 5, n_jobs = -1) \n",
        "# fit the model with the training data\n",
        "skf = StratifiedKFold(n_splits=10, shuffle=True)\n",
        "lst_accu_stratified = []\n",
        "for train_index, test_index in skf.split(X1, y1):\n",
        "    X_train = X1.iloc[train_index, :]\n",
        "    y_train = y1[train_index]\n",
        "    X_test = X1.iloc[test_index, :]\n",
        "    y_test = y1[test_index]\n",
        "    classifier2.fit(X_train,y_train)\n",
        "    preds = classifier2.predict_proba(X_test) \n",
        "    lst_accu_stratified.append(roc_auc_score(y_test, preds[:, 1]))\n",
        "from numpy.lib.function_base import average\n",
        "score2 = average(lst_accu_stratified)\n",
        "score2"
      ]
    },
    {
      "cell_type": "code",
      "execution_count": null,
      "metadata": {
        "colab": {
          "base_uri": "https://localhost:8080/"
        },
        "id": "hpdZaKhUFx9m",
        "outputId": "6d6c8df0-020c-4a14-db1e-0675e730179f"
      },
      "outputs": [
        {
          "data": {
            "text/plain": [
              "[0.7407548436041084,\n",
              " 0.7265931372549019,\n",
              " 0.7485629668534081,\n",
              " 0.7281177054154996,\n",
              " 0.7744499883286647,\n",
              " 0.7463702147525677,\n",
              " 0.7101978291316526,\n",
              " 0.6941205656164724,\n",
              " 0.7076386078070394,\n",
              " 0.7415526743759258]"
            ]
          },
          "execution_count": 90,
          "metadata": {},
          "output_type": "execute_result"
        }
      ],
      "source": [
        "lst_accu_stratified"
      ]
    },
    {
      "cell_type": "markdown",
      "metadata": {
        "id": "n9dz-uY06pFV"
      },
      "source": [
        "***LightGBM model***"
      ]
    },
    {
      "cell_type": "code",
      "execution_count": null,
      "metadata": {
        "colab": {
          "base_uri": "https://localhost:8080/"
        },
        "id": "Pm9jynxE6rtr",
        "outputId": "3197056f-2eda-4409-c84e-aec3993b7351"
      },
      "outputs": [
        {
          "data": {
            "text/plain": [
              "0.7307429544476178"
            ]
          },
          "execution_count": 91,
          "metadata": {},
          "output_type": "execute_result"
        }
      ],
      "source": [
        "import lightgbm as lgb\n",
        "classifier3 = lgb.LGBMClassifier(n_estimators = 225, learning_rate=0.25, max_depth = 1, min_child_samples= 20, n_jobs = -1)\n",
        "skf = StratifiedKFold(n_splits=10, shuffle=True)\n",
        "lst_accu_stratified = []\n",
        "for train_index, test_index in skf.split(X1, y1):\n",
        "    X_train = X1.iloc[train_index, :]\n",
        "    y_train = y1[train_index]\n",
        "    X_test = X1.iloc[test_index, :]\n",
        "    y_test = y1[test_index]\n",
        "    classifier3.fit(X_train,y_train)\n",
        "    preds = classifier3.predict_proba(X_test) \n",
        "    lst_accu_stratified.append(roc_auc_score(y_test, preds[:, 1]))\n",
        "from numpy.lib.function_base import average\n",
        "score3 = average(lst_accu_stratified)\n",
        "score3"
      ]
    },
    {
      "cell_type": "code",
      "execution_count": null,
      "metadata": {
        "colab": {
          "base_uri": "https://localhost:8080/"
        },
        "id": "CF0BzH6M7crA",
        "outputId": "a252c47e-0b38-466c-8598-8b525303d6b5"
      },
      "outputs": [
        {
          "data": {
            "text/plain": [
              "[0.7364772992530345,\n",
              " 0.7439892623716153,\n",
              " 0.753968253968254,\n",
              " 0.7144286881419234,\n",
              " 0.7346011321195144,\n",
              " 0.7057233309990663,\n",
              " 0.7316336951447245,\n",
              " 0.7380056027773062,\n",
              " 0.7331789740621295,\n",
              " 0.7154233056386107]"
            ]
          },
          "execution_count": 92,
          "metadata": {},
          "output_type": "execute_result"
        }
      ],
      "source": [
        "lst_accu_stratified"
      ]
    },
    {
      "cell_type": "markdown",
      "metadata": {
        "id": "lwR8TRPZxh4R"
      },
      "source": [
        "***Adaboost***"
      ]
    },
    {
      "cell_type": "code",
      "execution_count": null,
      "metadata": {
        "colab": {
          "background_save": true,
          "base_uri": "https://localhost:8080/"
        },
        "id": "NTkleonHxjw7",
        "outputId": "25a9d63c-af20-4a82-8fa4-18bc7e268d33"
      },
      "outputs": [
        {
          "data": {
            "text/plain": [
              "0.6998200071935041"
            ]
          },
          "execution_count": 50,
          "metadata": {},
          "output_type": "execute_result"
        }
      ],
      "source": [
        "from sklearn.ensemble import AdaBoostClassifier\n",
        "classifier4 = AdaBoostClassifier(n_estimators=175, random_state=0)\n",
        "skf = StratifiedKFold(n_splits=10, shuffle=True)\n",
        "lst_accu_stratified = []\n",
        "for train_index, test_index in skf.split(X1, y1):\n",
        "    X_train = X1.iloc[train_index, :]\n",
        "    y_train = y1[train_index]\n",
        "    X_test = X1.iloc[test_index, :]\n",
        "    y_test = y1[test_index]\n",
        "    classifier4.fit(X_train,y_train)\n",
        "    preds = classifier4.predict_proba(X_test) \n",
        "    lst_accu_stratified.append(roc_auc_score(y_test, preds[:, 1]))\n",
        "from numpy.lib.function_base import average\n",
        "score4 = average(lst_accu_stratified)\n",
        "score4"
      ]
    },
    {
      "cell_type": "markdown",
      "metadata": {
        "id": "7qkzzTvwD117"
      },
      "source": [
        "***Ensemble***"
      ]
    },
    {
      "cell_type": "code",
      "execution_count": null,
      "metadata": {
        "colab": {
          "background_save": true
        },
        "id": "Ct-KF-OHINvH"
      },
      "outputs": [],
      "source": [
        "models = [('Rf',classifier1),('Xgb',classifier2),('Lgb',classifier3),('adaboost',classifier4)]\n",
        "scores = [score1, score2, score3, score4]"
      ]
    },
    {
      "cell_type": "code",
      "execution_count": null,
      "metadata": {
        "colab": {
          "background_save": true
        },
        "id": "t_SukA91H_1S"
      },
      "outputs": [],
      "source": [
        "from sklearn.ensemble import VotingClassifier\n",
        "ensemble = VotingClassifier(estimators=models, voting='soft', weights= scores)\n",
        "skf = StratifiedKFold(n_splits=10, shuffle=True)\n",
        "lst_accu_stratified = []\n",
        "for train_index, test_index in skf.split(X1, y1):\n",
        "    X_train = X1.iloc[train_index, :]\n",
        "    y_train = y1[train_index]\n",
        "    X_test = X1.iloc[test_index, :]\n",
        "    y_test = y1[test_index]\n",
        "    ensemble.fit(X_train,y_train)\n",
        "    preds = ensemble.predict_proba(X_test) \n",
        "    lst_accu_stratified.append(roc_auc_score(y_test, preds[:, 1]))\n",
        "from numpy.lib.function_base import average\n",
        "score4 = average(lst_accu_stratified)"
      ]
    },
    {
      "cell_type": "code",
      "execution_count": null,
      "metadata": {
        "colab": {
          "background_save": true,
          "base_uri": "https://localhost:8080/"
        },
        "id": "WGyjLQa53RZj",
        "outputId": "6f1b5e72-5032-44b1-8415-b2be78ae6f10"
      },
      "outputs": [
        {
          "data": {
            "text/plain": [
              "0.7327508346354643"
            ]
          },
          "execution_count": 55,
          "metadata": {},
          "output_type": "execute_result"
        }
      ],
      "source": [
        "score4"
      ]
    },
    {
      "cell_type": "code",
      "execution_count": null,
      "metadata": {
        "colab": {
          "background_save": true,
          "base_uri": "https://localhost:8080/"
        },
        "id": "uDh_tzhlK20w",
        "outputId": "d2d94724-4310-49c0-8103-d9dbd43986db"
      },
      "outputs": [
        {
          "data": {
            "text/plain": [
              "[0.7323140055236753,\n",
              " 0.72657049508403,\n",
              " 0.7278642378667394,\n",
              " 0.738777665754477,\n",
              " 0.744958319751561,\n",
              " 0.7265347694344716,\n",
              " 0.7207421262827967,\n",
              " 0.7356099287194783,\n",
              " 0.7158055710024771,\n",
              " 0.7583312269349376]"
            ]
          },
          "execution_count": 57,
          "metadata": {},
          "output_type": "execute_result"
        }
      ],
      "source": [
        "lst_accu_stratified"
      ]
    },
    {
      "cell_type": "markdown",
      "metadata": {
        "id": "3QCQYZR8WpAL"
      },
      "source": [
        "***Scoring on holdout set***"
      ]
    },
    {
      "cell_type": "code",
      "execution_count": null,
      "metadata": {
        "colab": {
          "background_save": true,
          "base_uri": "https://localhost:8080/"
        },
        "id": "Ekx4vIJVQhFR",
        "outputId": "f3f380ac-b03e-415e-cd1d-3f96d571f59b"
      },
      "outputs": [
        {
          "ename": "FileNotFoundError",
          "evalue": "ignored",
          "output_type": "error",
          "traceback": [
            "\u001b[0;31m---------------------------------------------------------------------------\u001b[0m",
            "\u001b[0;31mFileNotFoundError\u001b[0m                         Traceback (most recent call last)",
            "\u001b[0;32m<ipython-input-58-f6b622fa4ea1>\u001b[0m in \u001b[0;36m<module>\u001b[0;34m\u001b[0m\n\u001b[0;32m----> 1\u001b[0;31m \u001b[0mdf_hold\u001b[0m \u001b[0;34m=\u001b[0m \u001b[0mpd\u001b[0m\u001b[0;34m.\u001b[0m\u001b[0mread_csv\u001b[0m\u001b[0;34m(\u001b[0m\u001b[0;34m\"2022_Competition_Holdout.csv\"\u001b[0m\u001b[0;34m)\u001b[0m\u001b[0;34m\u001b[0m\u001b[0;34m\u001b[0m\u001b[0m\n\u001b[0m",
            "\u001b[0;32m/usr/local/lib/python3.7/dist-packages/pandas/util/_decorators.py\u001b[0m in \u001b[0;36mwrapper\u001b[0;34m(*args, **kwargs)\u001b[0m\n\u001b[1;32m    309\u001b[0m                     \u001b[0mstacklevel\u001b[0m\u001b[0;34m=\u001b[0m\u001b[0mstacklevel\u001b[0m\u001b[0;34m,\u001b[0m\u001b[0;34m\u001b[0m\u001b[0;34m\u001b[0m\u001b[0m\n\u001b[1;32m    310\u001b[0m                 )\n\u001b[0;32m--> 311\u001b[0;31m             \u001b[0;32mreturn\u001b[0m \u001b[0mfunc\u001b[0m\u001b[0;34m(\u001b[0m\u001b[0;34m*\u001b[0m\u001b[0margs\u001b[0m\u001b[0;34m,\u001b[0m \u001b[0;34m**\u001b[0m\u001b[0mkwargs\u001b[0m\u001b[0;34m)\u001b[0m\u001b[0;34m\u001b[0m\u001b[0;34m\u001b[0m\u001b[0m\n\u001b[0m\u001b[1;32m    312\u001b[0m \u001b[0;34m\u001b[0m\u001b[0m\n\u001b[1;32m    313\u001b[0m         \u001b[0;32mreturn\u001b[0m \u001b[0mwrapper\u001b[0m\u001b[0;34m\u001b[0m\u001b[0;34m\u001b[0m\u001b[0m\n",
            "\u001b[0;32m/usr/local/lib/python3.7/dist-packages/pandas/io/parsers/readers.py\u001b[0m in \u001b[0;36mread_csv\u001b[0;34m(filepath_or_buffer, sep, delimiter, header, names, index_col, usecols, squeeze, prefix, mangle_dupe_cols, dtype, engine, converters, true_values, false_values, skipinitialspace, skiprows, skipfooter, nrows, na_values, keep_default_na, na_filter, verbose, skip_blank_lines, parse_dates, infer_datetime_format, keep_date_col, date_parser, dayfirst, cache_dates, iterator, chunksize, compression, thousands, decimal, lineterminator, quotechar, quoting, doublequote, escapechar, comment, encoding, encoding_errors, dialect, error_bad_lines, warn_bad_lines, on_bad_lines, delim_whitespace, low_memory, memory_map, float_precision, storage_options)\u001b[0m\n\u001b[1;32m    584\u001b[0m     \u001b[0mkwds\u001b[0m\u001b[0;34m.\u001b[0m\u001b[0mupdate\u001b[0m\u001b[0;34m(\u001b[0m\u001b[0mkwds_defaults\u001b[0m\u001b[0;34m)\u001b[0m\u001b[0;34m\u001b[0m\u001b[0;34m\u001b[0m\u001b[0m\n\u001b[1;32m    585\u001b[0m \u001b[0;34m\u001b[0m\u001b[0m\n\u001b[0;32m--> 586\u001b[0;31m     \u001b[0;32mreturn\u001b[0m \u001b[0m_read\u001b[0m\u001b[0;34m(\u001b[0m\u001b[0mfilepath_or_buffer\u001b[0m\u001b[0;34m,\u001b[0m \u001b[0mkwds\u001b[0m\u001b[0;34m)\u001b[0m\u001b[0;34m\u001b[0m\u001b[0;34m\u001b[0m\u001b[0m\n\u001b[0m\u001b[1;32m    587\u001b[0m \u001b[0;34m\u001b[0m\u001b[0m\n\u001b[1;32m    588\u001b[0m \u001b[0;34m\u001b[0m\u001b[0m\n",
            "\u001b[0;32m/usr/local/lib/python3.7/dist-packages/pandas/io/parsers/readers.py\u001b[0m in \u001b[0;36m_read\u001b[0;34m(filepath_or_buffer, kwds)\u001b[0m\n\u001b[1;32m    480\u001b[0m \u001b[0;34m\u001b[0m\u001b[0m\n\u001b[1;32m    481\u001b[0m     \u001b[0;31m# Create the parser.\u001b[0m\u001b[0;34m\u001b[0m\u001b[0;34m\u001b[0m\u001b[0;34m\u001b[0m\u001b[0m\n\u001b[0;32m--> 482\u001b[0;31m     \u001b[0mparser\u001b[0m \u001b[0;34m=\u001b[0m \u001b[0mTextFileReader\u001b[0m\u001b[0;34m(\u001b[0m\u001b[0mfilepath_or_buffer\u001b[0m\u001b[0;34m,\u001b[0m \u001b[0;34m**\u001b[0m\u001b[0mkwds\u001b[0m\u001b[0;34m)\u001b[0m\u001b[0;34m\u001b[0m\u001b[0;34m\u001b[0m\u001b[0m\n\u001b[0m\u001b[1;32m    483\u001b[0m \u001b[0;34m\u001b[0m\u001b[0m\n\u001b[1;32m    484\u001b[0m     \u001b[0;32mif\u001b[0m \u001b[0mchunksize\u001b[0m \u001b[0;32mor\u001b[0m \u001b[0miterator\u001b[0m\u001b[0;34m:\u001b[0m\u001b[0;34m\u001b[0m\u001b[0;34m\u001b[0m\u001b[0m\n",
            "\u001b[0;32m/usr/local/lib/python3.7/dist-packages/pandas/io/parsers/readers.py\u001b[0m in \u001b[0;36m__init__\u001b[0;34m(self, f, engine, **kwds)\u001b[0m\n\u001b[1;32m    809\u001b[0m             \u001b[0mself\u001b[0m\u001b[0;34m.\u001b[0m\u001b[0moptions\u001b[0m\u001b[0;34m[\u001b[0m\u001b[0;34m\"has_index_names\"\u001b[0m\u001b[0;34m]\u001b[0m \u001b[0;34m=\u001b[0m \u001b[0mkwds\u001b[0m\u001b[0;34m[\u001b[0m\u001b[0;34m\"has_index_names\"\u001b[0m\u001b[0;34m]\u001b[0m\u001b[0;34m\u001b[0m\u001b[0;34m\u001b[0m\u001b[0m\n\u001b[1;32m    810\u001b[0m \u001b[0;34m\u001b[0m\u001b[0m\n\u001b[0;32m--> 811\u001b[0;31m         \u001b[0mself\u001b[0m\u001b[0;34m.\u001b[0m\u001b[0m_engine\u001b[0m \u001b[0;34m=\u001b[0m \u001b[0mself\u001b[0m\u001b[0;34m.\u001b[0m\u001b[0m_make_engine\u001b[0m\u001b[0;34m(\u001b[0m\u001b[0mself\u001b[0m\u001b[0;34m.\u001b[0m\u001b[0mengine\u001b[0m\u001b[0;34m)\u001b[0m\u001b[0;34m\u001b[0m\u001b[0;34m\u001b[0m\u001b[0m\n\u001b[0m\u001b[1;32m    812\u001b[0m \u001b[0;34m\u001b[0m\u001b[0m\n\u001b[1;32m    813\u001b[0m     \u001b[0;32mdef\u001b[0m \u001b[0mclose\u001b[0m\u001b[0;34m(\u001b[0m\u001b[0mself\u001b[0m\u001b[0;34m)\u001b[0m\u001b[0;34m:\u001b[0m\u001b[0;34m\u001b[0m\u001b[0;34m\u001b[0m\u001b[0m\n",
            "\u001b[0;32m/usr/local/lib/python3.7/dist-packages/pandas/io/parsers/readers.py\u001b[0m in \u001b[0;36m_make_engine\u001b[0;34m(self, engine)\u001b[0m\n\u001b[1;32m   1038\u001b[0m             )\n\u001b[1;32m   1039\u001b[0m         \u001b[0;31m# error: Too many arguments for \"ParserBase\"\u001b[0m\u001b[0;34m\u001b[0m\u001b[0;34m\u001b[0m\u001b[0;34m\u001b[0m\u001b[0m\n\u001b[0;32m-> 1040\u001b[0;31m         \u001b[0;32mreturn\u001b[0m \u001b[0mmapping\u001b[0m\u001b[0;34m[\u001b[0m\u001b[0mengine\u001b[0m\u001b[0;34m]\u001b[0m\u001b[0;34m(\u001b[0m\u001b[0mself\u001b[0m\u001b[0;34m.\u001b[0m\u001b[0mf\u001b[0m\u001b[0;34m,\u001b[0m \u001b[0;34m**\u001b[0m\u001b[0mself\u001b[0m\u001b[0;34m.\u001b[0m\u001b[0moptions\u001b[0m\u001b[0;34m)\u001b[0m  \u001b[0;31m# type: ignore[call-arg]\u001b[0m\u001b[0;34m\u001b[0m\u001b[0;34m\u001b[0m\u001b[0m\n\u001b[0m\u001b[1;32m   1041\u001b[0m \u001b[0;34m\u001b[0m\u001b[0m\n\u001b[1;32m   1042\u001b[0m     \u001b[0;32mdef\u001b[0m \u001b[0m_failover_to_python\u001b[0m\u001b[0;34m(\u001b[0m\u001b[0mself\u001b[0m\u001b[0;34m)\u001b[0m\u001b[0;34m:\u001b[0m\u001b[0;34m\u001b[0m\u001b[0;34m\u001b[0m\u001b[0m\n",
            "\u001b[0;32m/usr/local/lib/python3.7/dist-packages/pandas/io/parsers/c_parser_wrapper.py\u001b[0m in \u001b[0;36m__init__\u001b[0;34m(self, src, **kwds)\u001b[0m\n\u001b[1;32m     49\u001b[0m \u001b[0;34m\u001b[0m\u001b[0m\n\u001b[1;32m     50\u001b[0m         \u001b[0;31m# open handles\u001b[0m\u001b[0;34m\u001b[0m\u001b[0;34m\u001b[0m\u001b[0;34m\u001b[0m\u001b[0m\n\u001b[0;32m---> 51\u001b[0;31m         \u001b[0mself\u001b[0m\u001b[0;34m.\u001b[0m\u001b[0m_open_handles\u001b[0m\u001b[0;34m(\u001b[0m\u001b[0msrc\u001b[0m\u001b[0;34m,\u001b[0m \u001b[0mkwds\u001b[0m\u001b[0;34m)\u001b[0m\u001b[0;34m\u001b[0m\u001b[0;34m\u001b[0m\u001b[0m\n\u001b[0m\u001b[1;32m     52\u001b[0m         \u001b[0;32massert\u001b[0m \u001b[0mself\u001b[0m\u001b[0;34m.\u001b[0m\u001b[0mhandles\u001b[0m \u001b[0;32mis\u001b[0m \u001b[0;32mnot\u001b[0m \u001b[0;32mNone\u001b[0m\u001b[0;34m\u001b[0m\u001b[0;34m\u001b[0m\u001b[0m\n\u001b[1;32m     53\u001b[0m \u001b[0;34m\u001b[0m\u001b[0m\n",
            "\u001b[0;32m/usr/local/lib/python3.7/dist-packages/pandas/io/parsers/base_parser.py\u001b[0m in \u001b[0;36m_open_handles\u001b[0;34m(self, src, kwds)\u001b[0m\n\u001b[1;32m    227\u001b[0m             \u001b[0mmemory_map\u001b[0m\u001b[0;34m=\u001b[0m\u001b[0mkwds\u001b[0m\u001b[0;34m.\u001b[0m\u001b[0mget\u001b[0m\u001b[0;34m(\u001b[0m\u001b[0;34m\"memory_map\"\u001b[0m\u001b[0;34m,\u001b[0m \u001b[0;32mFalse\u001b[0m\u001b[0;34m)\u001b[0m\u001b[0;34m,\u001b[0m\u001b[0;34m\u001b[0m\u001b[0;34m\u001b[0m\u001b[0m\n\u001b[1;32m    228\u001b[0m             \u001b[0mstorage_options\u001b[0m\u001b[0;34m=\u001b[0m\u001b[0mkwds\u001b[0m\u001b[0;34m.\u001b[0m\u001b[0mget\u001b[0m\u001b[0;34m(\u001b[0m\u001b[0;34m\"storage_options\"\u001b[0m\u001b[0;34m,\u001b[0m \u001b[0;32mNone\u001b[0m\u001b[0;34m)\u001b[0m\u001b[0;34m,\u001b[0m\u001b[0;34m\u001b[0m\u001b[0;34m\u001b[0m\u001b[0m\n\u001b[0;32m--> 229\u001b[0;31m             \u001b[0merrors\u001b[0m\u001b[0;34m=\u001b[0m\u001b[0mkwds\u001b[0m\u001b[0;34m.\u001b[0m\u001b[0mget\u001b[0m\u001b[0;34m(\u001b[0m\u001b[0;34m\"encoding_errors\"\u001b[0m\u001b[0;34m,\u001b[0m \u001b[0;34m\"strict\"\u001b[0m\u001b[0;34m)\u001b[0m\u001b[0;34m,\u001b[0m\u001b[0;34m\u001b[0m\u001b[0;34m\u001b[0m\u001b[0m\n\u001b[0m\u001b[1;32m    230\u001b[0m         )\n\u001b[1;32m    231\u001b[0m \u001b[0;34m\u001b[0m\u001b[0m\n",
            "\u001b[0;32m/usr/local/lib/python3.7/dist-packages/pandas/io/common.py\u001b[0m in \u001b[0;36mget_handle\u001b[0;34m(path_or_buf, mode, encoding, compression, memory_map, is_text, errors, storage_options)\u001b[0m\n\u001b[1;32m    705\u001b[0m                 \u001b[0mencoding\u001b[0m\u001b[0;34m=\u001b[0m\u001b[0mioargs\u001b[0m\u001b[0;34m.\u001b[0m\u001b[0mencoding\u001b[0m\u001b[0;34m,\u001b[0m\u001b[0;34m\u001b[0m\u001b[0;34m\u001b[0m\u001b[0m\n\u001b[1;32m    706\u001b[0m                 \u001b[0merrors\u001b[0m\u001b[0;34m=\u001b[0m\u001b[0merrors\u001b[0m\u001b[0;34m,\u001b[0m\u001b[0;34m\u001b[0m\u001b[0;34m\u001b[0m\u001b[0m\n\u001b[0;32m--> 707\u001b[0;31m                 \u001b[0mnewline\u001b[0m\u001b[0;34m=\u001b[0m\u001b[0;34m\"\"\u001b[0m\u001b[0;34m,\u001b[0m\u001b[0;34m\u001b[0m\u001b[0;34m\u001b[0m\u001b[0m\n\u001b[0m\u001b[1;32m    708\u001b[0m             )\n\u001b[1;32m    709\u001b[0m         \u001b[0;32melse\u001b[0m\u001b[0;34m:\u001b[0m\u001b[0;34m\u001b[0m\u001b[0;34m\u001b[0m\u001b[0m\n",
            "\u001b[0;31mFileNotFoundError\u001b[0m: [Errno 2] No such file or directory: '2022_Competition_Holdout.csv'"
          ]
        }
      ],
      "source": [
        "df_hold = pd.read_csv(\"2022_Competition_Holdout.csv\")"
      ]
    },
    {
      "cell_type": "code",
      "execution_count": null,
      "metadata": {
        "colab": {
          "background_save": true
        },
        "id": "pTrGXdCLQUM_"
      },
      "outputs": [],
      "source": [
        "df_hold.shape"
      ]
    },
    {
      "cell_type": "code",
      "execution_count": null,
      "metadata": {
        "colab": {
          "background_save": true
        },
        "id": "toiMAAqYyVDI"
      },
      "outputs": [],
      "source": [
        "df_hold['lang_spoken_cd'] = df_hold['lang_spoken_cd'].fillna('ENG')\n",
        "df_hold['cons_mobplus'] = df_hold['cons_mobplus'].fillna('U')\n",
        "df_hold['cms_ra_factor_type_cd'] = df_hold['cms_ra_factor_type_cd'].fillna('CN')\n",
        "df_hold['cons_homstat'] = df_hold['cons_homstat'].fillna('U')\n",
        "df_hold = df_hold[df_hold.lang_spoken_cd != \"*\"]\n",
        "df_hold = df_hold[df_hold.cms_ra_factor_type_cd != \"*\"]\n",
        "df_hold = df_hold[df_hold.cms_race_cd != \"*\"]\n",
        "df_hold = df_hold.astype({\"cms_race_cd\":int})\n",
        "df_hold = pd.get_dummies(df_hold, columns = categorical_cols)\n",
        "listcols.append(\"id\")\n",
        "df_hold = df_hold[listcols]\n",
        "df_hold['avg_people_per_home'] = df_hold['atlas_totalpopacs']/df_hold['atlas_totalocchu']\n",
        "df_hold['total_bh_claims_mnt'] = df_hold[l1].sum(axis = 1)\n",
        "df_hold['cmsd1_claims_ct'] = df_hold[l3].sum(axis = 1)\n",
        "df_hold['cmsd2_claims_ct'] = df_hold[l4].sum(axis = 1)\n",
        "df_hold['med_claims_avg_days'] = (df_hold[l8].sum(axis = 1))/len(l8)\n",
        "df_hold['avg_rev_ct'] = (df_hold[l9].sum(axis = 1))/len(l9)\n",
        "df_hold['rx_tier'] = df_hold['rx_tier_1_pmpm_ct'] + df_hold['rx_tier_2_pmpm_ct'] + df_hold['rx_tier_3_pmpm_ct'] + df_hold['rx_tier_4_pmpm_ct']\n",
        "df_hold.drop(columns = cols_drop, inplace = True)\n",
        "df_hold.dropna(inplace = True)"
      ]
    },
    {
      "cell_type": "code",
      "execution_count": null,
      "metadata": {
        "colab": {
          "background_save": true
        },
        "id": "rbVbMznKTjYf"
      },
      "outputs": [],
      "source": [
        "df6 = df_hold\n",
        "ids = df6[\"id\"]\n",
        "df6.drop(columns = \"id\", inplace = True)"
      ]
    },
    {
      "cell_type": "code",
      "execution_count": null,
      "metadata": {
        "colab": {
          "background_save": true
        },
        "id": "5-kb2QUiYX2I"
      },
      "outputs": [],
      "source": [
        "score1 = ensemble.predict_proba(df6)[:,1]\n",
        "tuples = list(zip(ids,score1))\n",
        "df_submit = pd.DataFrame(tuples, columns = [\"id\",\"score\"])\n",
        "df_submit['Rank'] = df_submit['score'].rank(ascending=False)\n",
        "df_submit.to_csv(\"/content/2022CaseCompetition_Shubhi_Gupta_20221016.csv\")"
      ]
    },
    {
      "cell_type": "markdown",
      "metadata": {
        "id": "IxuuhL3IyJw3"
      },
      "source": [
        "***Feature Importance***"
      ]
    },
    {
      "cell_type": "code",
      "execution_count": null,
      "metadata": {
        "colab": {
          "background_save": true
        },
        "id": "j8sUcfij4Utv"
      },
      "outputs": [],
      "source": [
        "def compute_feature_importance(VotingClassifier, weights):\n",
        "    \"\"\" Function to compute feature importance of Voting Classifier \"\"\"\n",
        "    \n",
        "    feature_importance = dict()\n",
        "    for est in VotingClassifier.estimators_:\n",
        "        feature_importance[str(est)] = est.feature_importances_\n",
        "    \n",
        "    fe_scores = [0]*len(list(feature_importance.values())[0])\n",
        "    for idx, imp_score in enumerate(feature_importance.values()):\n",
        "        imp_score_with_weight = imp_score*weights[idx]\n",
        "        fe_scores = list(np.add(fe_scores, list(imp_score_with_weight)))\n",
        "    return fe_scores"
      ]
    },
    {
      "cell_type": "code",
      "execution_count": null,
      "metadata": {
        "colab": {
          "background_save": true
        },
        "id": "imdu54of_3vQ"
      },
      "outputs": [],
      "source": [
        "dfim = pd.DataFrame()\n",
        "dfim['Feature'] = X_train.columns\n",
        "dfim['Feature Importance'] = compute_feature_importance(VotingClassifier, scores)\n",
        "dfim.sort_values('Feature Importance', ascending=False)"
      ]
    },
    {
      "cell_type": "code",
      "execution_count": null,
      "metadata": {
        "colab": {
          "background_save": true
        },
        "id": "nOri8iIT7tRc"
      },
      "outputs": [],
      "source": [
        "import matplotlib.pyplot as plt\n",
        "\n",
        "f_i = list(zip(X1.columns, classifier.feature_importances_))\n",
        "f_i.sort(key = lambda x : x[1], reverse = True)\n",
        "f_i = f_i[0:19]\n",
        "f_i.sort(key = lambda x : x[1])\n",
        "plt.barh([x[0] for x in f_i],[x[1] for x in f_i])\n",
        "\n",
        "\n",
        "plt.show()"
      ]
    },
    {
      "cell_type": "code",
      "execution_count": null,
      "metadata": {
        "colab": {
          "background_save": true
        },
        "id": "JLoz77KG_jKH"
      },
      "outputs": [],
      "source": [
        "list1 = []\n",
        "list2 = []\n",
        "for i in f_i:\n",
        "  list1 = i[0]\n",
        "  list2.append(list1)"
      ]
    },
    {
      "cell_type": "code",
      "execution_count": null,
      "metadata": {
        "colab": {
          "background_save": true
        },
        "id": "hTtour0PC6fm"
      },
      "outputs": [],
      "source": [
        "list3 = []\n",
        "list4 = []\n",
        "for i in f_i:\n",
        "  list3 = i[1]\n",
        "  list4.append(list3)"
      ]
    }
  ],
  "metadata": {
    "colab": {
      "provenance": []
    },
    "kernelspec": {
      "display_name": "Python 3",
      "name": "python3"
    },
    "language_info": {
      "name": "python"
    }
  },
  "nbformat": 4,
  "nbformat_minor": 0
}